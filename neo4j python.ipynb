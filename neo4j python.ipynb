{
 "cells": [
  {
   "attachments": {
    "sc05.png": {
     "image/png": "[encoded data removed]"
    }
   },
   "cell_type": "markdown",
   "metadata": {},
   "source": [
    " # Neo4j and Python Connection\n",
    " \n",
    " \n",
    "   ## Sample Data\n",
    "   ![sc05.png](attachment:sc05.png)"
   ]
  },
  {
   "cell_type": "code",
   "execution_count": 1,
   "metadata": {
    "scrolled": true
   },
   "outputs": [
    {
     "name": "stdout",
     "output_type": "stream",
     "text": [
      "Requirement already satisfied: neo4j-driver in c:\\programdata\\anaconda3\\lib\\site-packages (1.7.4)\n",
      "Requirement already satisfied: neotime~=1.7.1 in c:\\programdata\\anaconda3\\lib\\site-packages (from neo4j-driver) (1.7.4)\n",
      "Requirement already satisfied: neobolt~=1.7.13 in c:\\programdata\\anaconda3\\lib\\site-packages (from neo4j-driver) (1.7.13)\n",
      "Requirement already satisfied: six in c:\\programdata\\anaconda3\\lib\\site-packages (from neotime~=1.7.1->neo4j-driver) (1.12.0)\n",
      "Requirement already satisfied: pytz in c:\\programdata\\anaconda3\\lib\\site-packages (from neotime~=1.7.1->neo4j-driver) (2018.9)\n",
      "Note: you may need to restart the kernel to use updated packages.\n"
     ]
    }
   ],
   "source": [
    "pip install neo4j-driver"
   ]
  },
  {
   "cell_type": "code",
   "execution_count": 2,
   "metadata": {},
   "outputs": [],
   "source": [
    "from neo4j import GraphDatabase, basic_auth"
   ]
  },
  {
   "cell_type": "code",
   "execution_count": 3,
   "metadata": {},
   "outputs": [],
   "source": [
    "driver = GraphDatabase.driver(\"bolt://localhost:7687\", auth=basic_auth(\"neo4j\", \"1234\"))"
   ]
  },
  {
   "cell_type": "code",
   "execution_count": 4,
   "metadata": {},
   "outputs": [
    {
     "name": "stdout",
     "output_type": "stream",
     "text": [
      "<Record n=<Node id=0 labels={'player'} properties={'name': 'M S Dhoni'}>>\n",
      "<Record n=<Node id=39 labels={'player'} properties={'name': 'Sachin Tendulkar'}>>\n",
      "<Record n=<Node id=40 labels={'team'} properties={'name': 'India'}>>\n"
     ]
    }
   ],
   "source": [
    "session = driver.session()\n",
    "result = list(session.run(\"MATCH (n) RETURN n\"))\n",
    "for record in result:\n",
    "    print(record)"
   ]
  },
  {
   "cell_type": "code",
   "execution_count": 5,
   "metadata": {},
   "outputs": [
    {
     "name": "stdout",
     "output_type": "stream",
     "text": [
      "['M S Dhoni', 'Sachin Tendulkar', 'India']\n"
     ]
    }
   ],
   "source": [
    "result = list(session.run(\"MATCH (n) RETURN n.name\"))\n",
    "print ([record[\"n.name\"] for record in result])"
   ]
  },
  {
   "cell_type": "code",
   "execution_count": 6,
   "metadata": {
    "scrolled": true
   },
   "outputs": [
    {
     "name": "stdout",
     "output_type": "stream",
     "text": [
      "<Record n.name='Sachin Tendulkar' r=<Relationship id=20 nodes=(<Node id=39 labels=set() properties={}>, <Node id=40 labels=set() properties={}>) type='plays_In' properties={}> m.name='India'>\n",
      "<Record n.name='M S Dhoni' r=<Relationship id=0 nodes=(<Node id=0 labels=set() properties={}>, <Node id=40 labels=set() properties={}>) type='plays_In' properties={}> m.name='India'>\n"
     ]
    }
   ],
   "source": [
    "result = list(session.run(\"MATCH ((n)-[r]->(m)) RETURN n.name,r,m.name\"))\n",
    "#print ([record[\"n.name\"] for record in result])\n",
    "for record in result:\n",
    "    print(record)"
   ]
  },
  {
   "cell_type": "code",
   "execution_count": 7,
   "metadata": {},
   "outputs": [
    {
     "name": "stdout",
     "output_type": "stream",
     "text": [
      "Sachin Tendulkar <Relationship id=20 nodes=(<Node id=39 labels=set() properties={}>, <Node id=40 labels=set() properties={}>) type='plays_In' properties={}> India\n",
      "M S Dhoni <Relationship id=0 nodes=(<Node id=0 labels=set() properties={}>, <Node id=40 labels=set() properties={}>) type='plays_In' properties={}> India\n"
     ]
    }
   ],
   "source": [
    "result = list(session.run(\"MATCH ((n)-[r]->(m)) RETURN n.name,r,m.name\"))\n",
    "#print ([record[\"n.name\"] for record in result])\n",
    "for record in result:\n",
    "    print(record[\"n.name\"],record[\"r\"],record[\"m.name\"])"
   ]
  },
  {
   "cell_type": "code",
   "execution_count": 8,
   "metadata": {},
   "outputs": [
    {
     "name": "stdout",
     "output_type": "stream",
     "text": [
      "Sachin Tendulkar plays_In India\n",
      "M S Dhoni plays_In India\n"
     ]
    }
   ],
   "source": [
    "result = list(session.run(\"MATCH ((n)-[r]->(m)) RETURN n.name,type(r),m.name\"))\n",
    "#print ([record[\"n.name\"] for record in result])\n",
    "for record in result:\n",
    "    print(record[\"n.name\"],record[\"type(r)\"],record[\"m.name\"])"
   ]
  }
 ],
 "metadata": {
  "kernelspec": {
   "display_name": "Python 3",
   "language": "python",
   "name": "python3"
  },
  "language_info": {
   "codemirror_mode": {
    "name": "ipython",
    "version": 3
   },
   "file_extension": ".py",
   "mimetype": "text/x-python",
   "name": "python",
   "nbconvert_exporter": "python",
   "pygments_lexer": "ipython3",
   "version": "3.7.3"
  }
 },
 "nbformat": 4,
 "nbformat_minor": 2
}
